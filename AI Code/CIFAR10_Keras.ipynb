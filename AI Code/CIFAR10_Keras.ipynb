{
 "cells": [
  {
   "cell_type": "markdown",
   "metadata": {
    "id": "ckaTL3jPvWHB"
   },
   "source": [
    "The description of CIFAR-10 dataset  \n",
    "The CIFAR-10 dataset consists of 60000 32x32 colour images in 10 classes, with 6000 images per class. There are 50000 training images and 10000 test images.\n",
    "\n",
    "The dataset is divided into five training batches and one test batch, each with 10000 images. The test batch contains exactly 1000 randomly-selected images from each class. The training batches contain the remaining images in random order, but some training batches may contain more images from one class than another. Between them, the training batches contain exactly 5000 images from each class.  \n",
    "\n",
    "It has ten classes  \n",
    "‘airplane’, ‘automobile’, ‘bird’, ‘cat’, ‘deer’, ‘dog’, ‘frog’, ‘horse’, ‘ship’, ‘truck’\n",
    "\n",
    "\n",
    "\n"
   ]
  },
  {
   "cell_type": "markdown",
   "metadata": {
    "id": "4C50UhO7vmx_"
   },
   "source": [
    "# Load Dataset"
   ]
  },
  {
   "cell_type": "code",
   "execution_count": 26,
   "metadata": {
    "executionInfo": {
     "elapsed": 270,
     "status": "ok",
     "timestamp": 1611935466690,
     "user": {
      "displayName": "Lixia Huang",
      "photoUrl": "",
      "userId": "04352750376074812064"
     },
     "user_tz": 300
    },
    "id": "mCnVmVqgvcdD"
   },
   "outputs": [],
   "source": [
    "import tensorflow as tf\n",
    "from keras.datasets import cifar10\n",
    "from keras.utils import to_categorical\n",
    "from keras.models import Sequential\n",
    "from keras.layers import Conv2D\n",
    "from keras.layers import MaxPooling2D\n",
    "from keras.layers import Dense\n",
    "from keras.layers import Flatten\n",
    "from keras.optimizers import SGD"
   ]
  },
  {
   "cell_type": "code",
   "execution_count": 27,
   "metadata": {
    "colab": {
     "base_uri": "https://localhost:8080/"
    },
    "executionInfo": {
     "elapsed": 951,
     "status": "ok",
     "timestamp": 1611935473157,
     "user": {
      "displayName": "Lixia Huang",
      "photoUrl": "",
      "userId": "04352750376074812064"
     },
     "user_tz": 300
    },
    "id": "T-8RD7AkvvYl",
    "outputId": "51800164-0bab-44e6-9de2-cdc10cb2aa89"
   },
   "outputs": [
    {
     "name": "stdout",
     "output_type": "stream",
     "text": [
      "[[[ 59  62  63]\n",
      "  [ 43  46  45]\n",
      "  [ 50  48  43]\n",
      "  ...\n",
      "  [158 132 108]\n",
      "  [152 125 102]\n",
      "  [148 124 103]]\n",
      "\n",
      " [[ 16  20  20]\n",
      "  [  0   0   0]\n",
      "  [ 18   8   0]\n",
      "  ...\n",
      "  [123  88  55]\n",
      "  [119  83  50]\n",
      "  [122  87  57]]\n",
      "\n",
      " [[ 25  24  21]\n",
      "  [ 16   7   0]\n",
      "  [ 49  27   8]\n",
      "  ...\n",
      "  [118  84  50]\n",
      "  [120  84  50]\n",
      "  [109  73  42]]\n",
      "\n",
      " ...\n",
      "\n",
      " [[208 170  96]\n",
      "  [201 153  34]\n",
      "  [198 161  26]\n",
      "  ...\n",
      "  [160 133  70]\n",
      "  [ 56  31   7]\n",
      "  [ 53  34  20]]\n",
      "\n",
      " [[180 139  96]\n",
      "  [173 123  42]\n",
      "  [186 144  30]\n",
      "  ...\n",
      "  [184 148  94]\n",
      "  [ 97  62  34]\n",
      "  [ 83  53  34]]\n",
      "\n",
      " [[177 144 116]\n",
      "  [168 129  94]\n",
      "  [179 142  87]\n",
      "  ...\n",
      "  [216 184 140]\n",
      "  [151 118  84]\n",
      "  [123  92  72]]]\n",
      "[[[158 112  49]\n",
      "  [159 111  47]\n",
      "  [165 116  51]\n",
      "  ...\n",
      "  [137  95  36]\n",
      "  [126  91  36]\n",
      "  [116  85  33]]\n",
      "\n",
      " [[152 112  51]\n",
      "  [151 110  40]\n",
      "  [159 114  45]\n",
      "  ...\n",
      "  [136  95  31]\n",
      "  [125  91  32]\n",
      "  [119  88  34]]\n",
      "\n",
      " [[151 110  47]\n",
      "  [151 109  33]\n",
      "  [158 111  36]\n",
      "  ...\n",
      "  [139  98  34]\n",
      "  [130  95  34]\n",
      "  [120  89  33]]\n",
      "\n",
      " ...\n",
      "\n",
      " [[ 68 124 177]\n",
      "  [ 42 100 148]\n",
      "  [ 31  88 137]\n",
      "  ...\n",
      "  [ 38  97 146]\n",
      "  [ 13  64 108]\n",
      "  [ 40  85 127]]\n",
      "\n",
      " [[ 61 116 168]\n",
      "  [ 49 102 148]\n",
      "  [ 35  85 132]\n",
      "  ...\n",
      "  [ 26  82 130]\n",
      "  [ 29  82 126]\n",
      "  [ 20  64 107]]\n",
      "\n",
      " [[ 54 107 160]\n",
      "  [ 56 105 149]\n",
      "  [ 45  89 132]\n",
      "  ...\n",
      "  [ 24  77 124]\n",
      "  [ 34  84 129]\n",
      "  [ 21  67 110]]]\n"
     ]
    },
    {
     "data": {
      "text/plain": [
       "((50000, 32, 32, 3), (50000, 10), (10000, 32, 32, 3), (10000, 10))"
      ]
     },
     "execution_count": 27,
     "metadata": {
      "tags": []
     },
     "output_type": "execute_result"
    }
   ],
   "source": [
    "# load train and test dataset\n",
    "(trainX, trainY), (testX, testY) = cifar10.load_data()\n",
    "# reshape dataset to have a single channel\n",
    "trainX = trainX.reshape((trainX.shape[0], 32, 32, -1))\n",
    "testX = testX.reshape((testX.shape[0], 32, 32, -1))\n",
    "# one hot encode target values\n",
    "trainY = to_categorical(trainY)\n",
    "testY = to_categorical(testY)\n",
    "print(trainX[0])\n",
    "print(testX[0])\n",
    "trainX.shape,trainY.shape,testX.shape,testY.shape"
   ]
  },
  {
   "cell_type": "code",
   "execution_count": 28,
   "metadata": {
    "colab": {
     "base_uri": "https://localhost:8080/"
    },
    "executionInfo": {
     "elapsed": 693,
     "status": "ok",
     "timestamp": 1611935488649,
     "user": {
      "displayName": "Lixia Huang",
      "photoUrl": "",
      "userId": "04352750376074812064"
     },
     "user_tz": 300
    },
    "id": "8AvXhtxBv2Im",
    "outputId": "417ef869-636b-4093-a190-73fc4f34cd31"
   },
   "outputs": [
    {
     "data": {
      "text/plain": [
       "(array([[[0.23137255, 0.24313726, 0.24705882],\n",
       "         [0.16862746, 0.18039216, 0.1764706 ],\n",
       "         [0.19607843, 0.1882353 , 0.16862746],\n",
       "         ...,\n",
       "         [0.61960787, 0.5176471 , 0.42352942],\n",
       "         [0.59607846, 0.49019608, 0.4       ],\n",
       "         [0.5803922 , 0.4862745 , 0.40392157]],\n",
       " \n",
       "        [[0.0627451 , 0.07843138, 0.07843138],\n",
       "         [0.        , 0.        , 0.        ],\n",
       "         [0.07058824, 0.03137255, 0.        ],\n",
       "         ...,\n",
       "         [0.48235294, 0.34509805, 0.21568628],\n",
       "         [0.46666667, 0.3254902 , 0.19607843],\n",
       "         [0.47843137, 0.34117648, 0.22352941]],\n",
       " \n",
       "        [[0.09803922, 0.09411765, 0.08235294],\n",
       "         [0.0627451 , 0.02745098, 0.        ],\n",
       "         [0.19215687, 0.10588235, 0.03137255],\n",
       "         ...,\n",
       "         [0.4627451 , 0.32941177, 0.19607843],\n",
       "         [0.47058824, 0.32941177, 0.19607843],\n",
       "         [0.42745098, 0.28627452, 0.16470589]],\n",
       " \n",
       "        ...,\n",
       " \n",
       "        [[0.8156863 , 0.6666667 , 0.3764706 ],\n",
       "         [0.7882353 , 0.6       , 0.13333334],\n",
       "         [0.7764706 , 0.6313726 , 0.10196079],\n",
       "         ...,\n",
       "         [0.627451  , 0.52156866, 0.27450982],\n",
       "         [0.21960784, 0.12156863, 0.02745098],\n",
       "         [0.20784314, 0.13333334, 0.07843138]],\n",
       " \n",
       "        [[0.7058824 , 0.54509807, 0.3764706 ],\n",
       "         [0.6784314 , 0.48235294, 0.16470589],\n",
       "         [0.7294118 , 0.5647059 , 0.11764706],\n",
       "         ...,\n",
       "         [0.72156864, 0.5803922 , 0.36862746],\n",
       "         [0.38039216, 0.24313726, 0.13333334],\n",
       "         [0.3254902 , 0.20784314, 0.13333334]],\n",
       " \n",
       "        [[0.69411767, 0.5647059 , 0.45490196],\n",
       "         [0.65882355, 0.5058824 , 0.36862746],\n",
       "         [0.7019608 , 0.5568628 , 0.34117648],\n",
       "         ...,\n",
       "         [0.84705883, 0.72156864, 0.54901963],\n",
       "         [0.5921569 , 0.4627451 , 0.32941177],\n",
       "         [0.48235294, 0.36078432, 0.28235295]]], dtype=float32),\n",
       " array([[[0.61960787, 0.4392157 , 0.19215687],\n",
       "         [0.62352943, 0.43529412, 0.18431373],\n",
       "         [0.64705884, 0.45490196, 0.2       ],\n",
       "         ...,\n",
       "         [0.5372549 , 0.37254903, 0.14117648],\n",
       "         [0.49411765, 0.35686275, 0.14117648],\n",
       "         [0.45490196, 0.33333334, 0.12941177]],\n",
       " \n",
       "        [[0.59607846, 0.4392157 , 0.2       ],\n",
       "         [0.5921569 , 0.43137255, 0.15686275],\n",
       "         [0.62352943, 0.44705883, 0.1764706 ],\n",
       "         ...,\n",
       "         [0.53333336, 0.37254903, 0.12156863],\n",
       "         [0.49019608, 0.35686275, 0.1254902 ],\n",
       "         [0.46666667, 0.34509805, 0.13333334]],\n",
       " \n",
       "        [[0.5921569 , 0.43137255, 0.18431373],\n",
       "         [0.5921569 , 0.42745098, 0.12941177],\n",
       "         [0.61960787, 0.43529412, 0.14117648],\n",
       "         ...,\n",
       "         [0.54509807, 0.38431373, 0.13333334],\n",
       "         [0.50980395, 0.37254903, 0.13333334],\n",
       "         [0.47058824, 0.34901962, 0.12941177]],\n",
       " \n",
       "        ...,\n",
       " \n",
       "        [[0.26666668, 0.4862745 , 0.69411767],\n",
       "         [0.16470589, 0.39215687, 0.5803922 ],\n",
       "         [0.12156863, 0.34509805, 0.5372549 ],\n",
       "         ...,\n",
       "         [0.14901961, 0.38039216, 0.57254905],\n",
       "         [0.05098039, 0.2509804 , 0.42352942],\n",
       "         [0.15686275, 0.33333334, 0.49803922]],\n",
       " \n",
       "        [[0.23921569, 0.45490196, 0.65882355],\n",
       "         [0.19215687, 0.4       , 0.5803922 ],\n",
       "         [0.13725491, 0.33333334, 0.5176471 ],\n",
       "         ...,\n",
       "         [0.10196079, 0.32156864, 0.50980395],\n",
       "         [0.11372549, 0.32156864, 0.49411765],\n",
       "         [0.07843138, 0.2509804 , 0.41960785]],\n",
       " \n",
       "        [[0.21176471, 0.41960785, 0.627451  ],\n",
       "         [0.21960784, 0.4117647 , 0.58431375],\n",
       "         [0.1764706 , 0.34901962, 0.5176471 ],\n",
       "         ...,\n",
       "         [0.09411765, 0.3019608 , 0.4862745 ],\n",
       "         [0.13333334, 0.32941177, 0.5058824 ],\n",
       "         [0.08235294, 0.2627451 , 0.43137255]]], dtype=float32))"
      ]
     },
     "execution_count": 28,
     "metadata": {
      "tags": []
     },
     "output_type": "execute_result"
    }
   ],
   "source": [
    "# scale pixels\n",
    "# convert from integers to floats\n",
    "trainX = trainX.astype('float32')\n",
    "testX = testX.astype('float32')\n",
    "# normalize to range 0-1\n",
    "trainX = trainX / 255.0\n",
    "testX = testX / 255.0\n",
    "trainX[0], testX[0]"
   ]
  },
  {
   "cell_type": "markdown",
   "metadata": {
    "id": "jo-Aa6mVv60i"
   },
   "source": [
    "# Build model"
   ]
  },
  {
   "cell_type": "code",
   "execution_count": 29,
   "metadata": {
    "colab": {
     "base_uri": "https://localhost:8080/"
    },
    "executionInfo": {
     "elapsed": 483,
     "status": "ok",
     "timestamp": 1611935500468,
     "user": {
      "displayName": "Lixia Huang",
      "photoUrl": "",
      "userId": "04352750376074812064"
     },
     "user_tz": 300
    },
    "id": "dCpjRyxZv-bv",
    "outputId": "c50a0cea-3f70-47f8-f06f-1f085750d03b"
   },
   "outputs": [
    {
     "name": "stdout",
     "output_type": "stream",
     "text": [
      "Model: \"sequential_2\"\n",
      "_________________________________________________________________\n",
      "Layer (type)                 Output Shape              Param #   \n",
      "=================================================================\n",
      "conv2d_12 (Conv2D)           (None, 32, 32, 32)        896       \n",
      "_________________________________________________________________\n",
      "conv2d_13 (Conv2D)           (None, 32, 32, 32)        9248      \n",
      "_________________________________________________________________\n",
      "max_pooling2d_6 (MaxPooling2 (None, 16, 16, 32)        0         \n",
      "_________________________________________________________________\n",
      "conv2d_14 (Conv2D)           (None, 16, 16, 64)        18496     \n",
      "_________________________________________________________________\n",
      "conv2d_15 (Conv2D)           (None, 16, 16, 64)        36928     \n",
      "_________________________________________________________________\n",
      "max_pooling2d_7 (MaxPooling2 (None, 8, 8, 64)          0         \n",
      "_________________________________________________________________\n",
      "conv2d_16 (Conv2D)           (None, 8, 8, 128)         73856     \n",
      "_________________________________________________________________\n",
      "conv2d_17 (Conv2D)           (None, 8, 8, 128)         147584    \n",
      "_________________________________________________________________\n",
      "max_pooling2d_8 (MaxPooling2 (None, 4, 4, 128)         0         \n",
      "_________________________________________________________________\n",
      "flatten_2 (Flatten)          (None, 2048)              0         \n",
      "_________________________________________________________________\n",
      "dense_4 (Dense)              (None, 128)               262272    \n",
      "_________________________________________________________________\n",
      "dense_5 (Dense)              (None, 10)                1290      \n",
      "=================================================================\n",
      "Total params: 550,570\n",
      "Trainable params: 550,570\n",
      "Non-trainable params: 0\n",
      "_________________________________________________________________\n"
     ]
    }
   ],
   "source": [
    "# define cnn model, 3 hidden layers and fully connected layer\n",
    "model = Sequential()        \n",
    "model.add(Conv2D(32, (3, 3), padding='same', activation='relu', kernel_initializer='he_uniform', input_shape=(32, 32, 3)))\n",
    "model.add(Conv2D(32, (3, 3), padding='same', activation='relu', kernel_initializer='he_uniform'))\n",
    "model.add(MaxPooling2D((2, 2)))\n",
    "model.add(Conv2D(64, (3, 3), padding='same', activation='relu', kernel_initializer='he_uniform'))\n",
    "model.add(Conv2D(64, (3, 3), padding='same', activation='relu', kernel_initializer='he_uniform'))\n",
    "model.add(MaxPooling2D((2, 2)))\n",
    "model.add(Conv2D(128, (3, 3), padding='same', activation='relu', kernel_initializer='he_uniform'))\n",
    "model.add(Conv2D(128, (3, 3), padding='same', activation='relu', kernel_initializer='he_uniform'))\n",
    "model.add(MaxPooling2D((2, 2)))\n",
    "model.add(Flatten())\n",
    "model.add(Dense(128, activation='relu', kernel_initializer='he_uniform'))\n",
    "model.add(Dense(10, activation='softmax'))\n",
    "# compile model\n",
    "opt = SGD(lr=0.001, momentum=0.9)\n",
    "model.compile(optimizer=opt, loss='categorical_crossentropy', metrics=['accuracy'])\n",
    "model.summary()"
   ]
  },
  {
   "cell_type": "code",
   "execution_count": 30,
   "metadata": {
    "colab": {
     "base_uri": "https://localhost:8080/"
    },
    "executionInfo": {
     "elapsed": 78064,
     "status": "ok",
     "timestamp": 1611935615430,
     "user": {
      "displayName": "Lixia Huang",
      "photoUrl": "",
      "userId": "04352750376074812064"
     },
     "user_tz": 300
    },
    "id": "XcNqdZ8IwEYZ",
    "outputId": "0a1f02ce-48fe-4c2f-84ac-7111d65178e0"
   },
   "outputs": [
    {
     "name": "stdout",
     "output_type": "stream",
     "text": [
      "Epoch 1/10\n",
      "1563/1563 [==============================] - 8s 5ms/step - loss: 1.8491 - accuracy: 0.3246 - val_loss: 1.3707 - val_accuracy: 0.5031\n",
      "Epoch 2/10\n",
      "1563/1563 [==============================] - 8s 5ms/step - loss: 1.3089 - accuracy: 0.5323 - val_loss: 1.1834 - val_accuracy: 0.5825\n",
      "Epoch 3/10\n",
      "1563/1563 [==============================] - 8s 5ms/step - loss: 1.0980 - accuracy: 0.6134 - val_loss: 1.0166 - val_accuracy: 0.6404\n",
      "Epoch 4/10\n",
      "1563/1563 [==============================] - 8s 5ms/step - loss: 0.9385 - accuracy: 0.6723 - val_loss: 0.9392 - val_accuracy: 0.6728\n",
      "Epoch 5/10\n",
      "1563/1563 [==============================] - 8s 5ms/step - loss: 0.8117 - accuracy: 0.7186 - val_loss: 0.9075 - val_accuracy: 0.6813\n",
      "Epoch 6/10\n",
      "1563/1563 [==============================] - 8s 5ms/step - loss: 0.7198 - accuracy: 0.7491 - val_loss: 0.8833 - val_accuracy: 0.6990\n",
      "Epoch 7/10\n",
      "1563/1563 [==============================] - 8s 5ms/step - loss: 0.6466 - accuracy: 0.7776 - val_loss: 0.8493 - val_accuracy: 0.7071\n",
      "Epoch 8/10\n",
      "1563/1563 [==============================] - 8s 5ms/step - loss: 0.5611 - accuracy: 0.8046 - val_loss: 0.8036 - val_accuracy: 0.7299\n",
      "Epoch 9/10\n",
      "1563/1563 [==============================] - 8s 5ms/step - loss: 0.4886 - accuracy: 0.8305 - val_loss: 0.8229 - val_accuracy: 0.7316\n",
      "Epoch 10/10\n",
      "1563/1563 [==============================] - 8s 5ms/step - loss: 0.4188 - accuracy: 0.8563 - val_loss: 0.9134 - val_accuracy: 0.7164\n"
     ]
    }
   ],
   "source": [
    "# train the model\n",
    "history = model.fit(trainX, trainY, epochs=10, batch_size=32, validation_data=(testX,testY))"
   ]
  },
  {
   "cell_type": "markdown",
   "metadata": {
    "id": "QW-vsyzEwK9C"
   },
   "source": [
    "Visualize the training Curve"
   ]
  },
  {
   "cell_type": "code",
   "execution_count": 31,
   "metadata": {
    "colab": {
     "base_uri": "https://localhost:8080/",
     "height": 279
    },
    "executionInfo": {
     "elapsed": 392,
     "status": "ok",
     "timestamp": 1611935676999,
     "user": {
      "displayName": "Lixia Huang",
      "photoUrl": "",
      "userId": "04352750376074812064"
     },
     "user_tz": 300
    },
    "id": "NZw5Bp5QwHej",
    "outputId": "90ba98e0-019a-43e8-8741-6659316e5e0e"
   },
   "outputs": [
    {
     "data": {
      "image/png": "[encoded data removed]",
      "text/plain": [
       "<Figure size 432x288 with 1 Axes>"
      ]
     },
     "metadata": {
      "needs_background": "light",
      "tags": []
     },
     "output_type": "display_data"
    }
   ],
   "source": [
    "import matplotlib.pyplot as pyplot\n",
    "pyplot.plot(history.history['accuracy'], label='training_accuracy')\n",
    "pyplot.plot(history.history['val_accuracy'], label='validation_accuracy')\n",
    "pyplot.xlabel('epoch')\n",
    "pyplot.ylabel('accuracy')\n",
    "pyplot.show()"
   ]
  },
  {
   "cell_type": "markdown",
   "metadata": {
    "id": "9KSt5yhaxOvt"
   },
   "source": [
    "Save the model"
   ]
  },
  {
   "cell_type": "code",
   "execution_count": 32,
   "metadata": {
    "colab": {
     "base_uri": "https://localhost:8080/"
    },
    "executionInfo": {
     "elapsed": 1257,
     "status": "ok",
     "timestamp": 1611935685422,
     "user": {
      "displayName": "Lixia Huang",
      "photoUrl": "",
      "userId": "04352750376074812064"
     },
     "user_tz": 300
    },
    "id": "LnPUWh6WwS8n",
    "outputId": "b991db4f-f5fa-4b08-fbc0-4a962c6af06a"
   },
   "outputs": [
    {
     "name": "stdout",
     "output_type": "stream",
     "text": [
      "INFO:tensorflow:Assets written to: cifar10_cnn_model.md/assets\n"
     ]
    }
   ],
   "source": [
    "model.save('cifar10_cnn_model.md')"
   ]
  },
  {
   "cell_type": "markdown",
   "metadata": {
    "id": "4TYuEnbQxYRB"
   },
   "source": [
    "Load model and evaluate the model"
   ]
  },
  {
   "cell_type": "code",
   "execution_count": 34,
   "metadata": {
    "colab": {
     "base_uri": "https://localhost:8080/"
    },
    "executionInfo": {
     "elapsed": 1991,
     "status": "ok",
     "timestamp": 1611935764348,
     "user": {
      "displayName": "Lixia Huang",
      "photoUrl": "",
      "userId": "04352750376074812064"
     },
     "user_tz": 300
    },
    "id": "jKF0xUqmxZh2",
    "outputId": "3be52a45-ed92-4087-872c-fda08c8eedcc"
   },
   "outputs": [
    {
     "name": "stdout",
     "output_type": "stream",
     "text": [
      "313/313 - 1s - loss: 0.9134 - accuracy: 0.7164\n",
      "> 71.640\n"
     ]
    }
   ],
   "source": [
    "# load model\n",
    "model_cnn = tf.keras.models.load_model('cifar10_cnn_model.md')\n",
    "# evaluate model on test dataset\n",
    "loss, acc = model_cnn.evaluate(testX, testY,verbose=2)\n",
    "print('> %.3f' % (acc * 100.0))"
   ]
  },
  {
   "cell_type": "markdown",
   "metadata": {
    "id": "ShyxbRPT0rGY"
   },
   "source": [
    "Prediction"
   ]
  },
  {
   "cell_type": "code",
   "execution_count": 103,
   "metadata": {
    "colab": {
     "base_uri": "https://localhost:8080/",
     "height": 287
    },
    "executionInfo": {
     "elapsed": 522,
     "status": "ok",
     "timestamp": 1611942275463,
     "user": {
      "displayName": "Lixia Huang",
      "photoUrl": "",
      "userId": "04352750376074812064"
     },
     "user_tz": 300
    },
    "id": "WqroKGUS01tX",
    "outputId": "9514ed7b-d4cd-49c8-9545-f8da5467f42c"
   },
   "outputs": [
    {
     "name": "stdout",
     "output_type": "stream",
     "text": [
      "Drive already mounted at /content/drive; to attempt to forcibly remount, call drive.mount(\"/content/drive\", force_remount=True).\n"
     ]
    },
    {
     "data": {
      "image/png": "[encoded data removed]",
      "text/plain": [
       "<Figure size 432x288 with 1 Axes>"
      ]
     },
     "metadata": {
      "needs_background": "light",
      "tags": []
     },
     "output_type": "display_data"
    }
   ],
   "source": [
    "import os\n",
    "from google.colab import drive\n",
    "import matplotlib.pyplot as plt\n",
    "import matplotlib.image as mpimg\n",
    "\n",
    "drive.mount('/content/drive')\n",
    "path = \"/content/drive/My Drive\"\n",
    "os.chdir(path)\n",
    "os.listdir(path)\n",
    "\n",
    "img1 = mpimg.imread('Colab Notebooks/sample.png')\n",
    "imgplot = plt.imshow(img1)\n",
    "plt.show()"
   ]
  },
  {
   "cell_type": "code",
   "execution_count": 133,
   "metadata": {
    "colab": {
     "base_uri": "https://localhost:8080/"
    },
    "executionInfo": {
     "elapsed": 409,
     "status": "ok",
     "timestamp": 1611944254878,
     "user": {
      "displayName": "Lixia Huang",
      "photoUrl": "",
      "userId": "04352750376074812064"
     },
     "user_tz": 300
    },
    "id": "2btXiHKIItB5",
    "outputId": "59450b04-d11b-4939-9d37-a49b6b860918"
   },
   "outputs": [
    {
     "name": "stdout",
     "output_type": "stream",
     "text": [
      "[4]\n",
      "the image is deer\n"
     ]
    }
   ],
   "source": [
    "from keras.preprocessing.image import load_img\n",
    "from keras.preprocessing.image import img_to_array\n",
    "from keras.models import load_model\n",
    "import numpy as np\n",
    "\n",
    "def load_image(filename):\n",
    "    #load the image\n",
    "    img = load_img(filename, target_size=(32,32,3))\n",
    "    #convert to array\n",
    "    img = img_to_array(img)\n",
    "    #reshape into a single sample with 1 channel\n",
    "    img = img.reshape((1,32, 32,3))\n",
    "    #prepare pixel data\n",
    "    img = img.astype('float32')\n",
    "    img = img / 255.0\n",
    "    return img\n",
    "img = load_image('Colab Notebooks/sample.png')\n",
    "label = np.argmax(model.predict(img), axis=-1)\n",
    "#label = model_cnn.predict_classes(img)\n",
    "print(label)\n",
    "classes = ['plane', 'car', 'bird', 'cat','deer', 'dog', 'frog', 'horse', 'ship', 'truck']\n",
    "print(f'the image is {classes[label[0]]}')"
   ]
  }
 ],
 "metadata": {
  "accelerator": "GPU",
  "colab": {
   "authorship_tag": "ABX9TyOPM1CnrBvelhamCCjEfMrM",
   "collapsed_sections": [],
   "name": "Untitled0.ipynb",
   "provenance": []
  },
  "kernelspec": {
   "display_name": "Python 3",
   "language": "python",
   "name": "python3"
  },
  "language_info": {
   "codemirror_mode": {
    "name": "ipython",
    "version": 3
   },
   "file_extension": ".py",
   "mimetype": "text/x-python",
   "name": "python",
   "nbconvert_exporter": "python",
   "pygments_lexer": "ipython3",
   "version": "3.8.5"
  },
  "varInspector": {
   "cols": {
    "lenName": 16,
    "lenType": 16,
    "lenVar": 40
   },
   "kernels_config": {
    "python": {
     "delete_cmd_postfix": "",
     "delete_cmd_prefix": "del ",
     "library": "var_list.py",
     "varRefreshCmd": "print(var_dic_list())"
    },
    "r": {
     "delete_cmd_postfix": ") ",
     "delete_cmd_prefix": "rm(",
     "library": "var_list.r",
     "varRefreshCmd": "cat(var_dic_list()) "
    }
   },
   "types_to_exclude": [
    "module",
    "function",
    "builtin_function_or_method",
    "instance",
    "_Feature"
   ],
   "window_display": false
  }
 },
 "nbformat": 4,
 "nbformat_minor": 1
}
